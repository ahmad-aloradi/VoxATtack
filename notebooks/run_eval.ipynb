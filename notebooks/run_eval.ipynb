{
 "cells": [
  {
   "cell_type": "markdown",
   "id": "d91ebed6-497d-42d6-a436-a99da1e5dc19",
   "metadata": {},
   "source": [
    "## Evaluation Script Using the Experiment's Folder"
   ]
  },
  {
   "cell_type": "markdown",
   "id": "a614b606",
   "metadata": {},
   "source": [
    "#### This script uses the not the files contained within the experiment's directory to obtain results. While it is slightly complex at the moment, it ensures backward compatibility in case the content of the python files change. This uses the scripts used for generating the experiments."
   ]
  },
  {
   "cell_type": "code",
   "execution_count": null,
   "id": "06c0fde4-e60c-4268-8845-8773b246708d",
   "metadata": {},
   "outputs": [],
   "source": [
    "import os \n",
    "import sys\n",
    "from pathlib import Path\n",
    "import yaml\n",
    "\n",
    "PATH_TO_HOME = '/home/' + os.getenv('USER') + '/voxattack'\n",
    "sys.path.append(PATH_TO_HOME)\n",
    "\n",
    "os.chdir(f'{PATH_TO_HOME}')"
   ]
  },
  {
   "cell_type": "markdown",
   "id": "0ccddccb-b9d0-436d-b8d5-db0b63016c3d",
   "metadata": {},
   "source": [
    "## Experiment Params"
   ]
  },
  {
   "cell_type": "code",
   "execution_count": null,
   "id": "6ccaed0c-3880-4b32-8835-21005af47411",
   "metadata": {},
   "outputs": [],
   "source": [
    "# Define tour experiment\n",
    "path_to_exp = ... # 'path/to/your/experiment'  # Change this to your experiment path\n",
    "\n",
    "paths_to_metadata = f\"{path_to_exp}/metadata\"\n",
    "paths_to_configs = f\"{paths_to_metadata}/configs\"\n",
    "paths_to_src = f\"{path_to_exp}/src\"\n",
    "os.chdir(f'{paths_to_configs}')\n",
    "\n",
    "ckpt_path = [ckpt for ckpt in os.listdir(f\"{path_to_exp}/checkpoints\") if ckpt != 'last.ckpt']\n",
    "assert len(ckpt_path) == 1, 'Expected a single model'\n",
    "ckpt_path = f\"{path_to_exp}/checkpoints/{ckpt_path[0]}\""
   ]
  },
  {
   "cell_type": "code",
   "execution_count": null,
   "id": "2cc4061f-0f8f-421b-83a1-82f5d225e554",
   "metadata": {},
   "outputs": [],
   "source": [
    "rel_path_eval = \"../src/eval.py\"\n",
    "module = f\"vpc.yaml\"\n",
    "datamodule = f\"datasets/vpc.yaml\"\n",
    "experiment = f\"vpc/voxattack.yaml\""
   ]
  },
  {
   "cell_type": "markdown",
   "id": "ed2239ed",
   "metadata": {},
   "source": [
    "## Load Overrides and Modify"
   ]
  },
  {
   "cell_type": "code",
   "execution_count": null,
   "id": "1b91f90b",
   "metadata": {},
   "outputs": [],
   "source": [
    "overrides_path = Path(\"../../.hydra/overrides.yaml\")\n",
    "\n",
    "with open(overrides_path, 'r') as file:\n",
    "    overrides_data_list = yaml.safe_load(file)\n",
    "\n",
    "overrides_data = \" \".join([f\"'{item}'\" if '{' in item and '}' in item else (item if 'logger' not in item else '') for item in overrides_data_list])\n",
    "overrides_data"
   ]
  },
  {
   "cell_type": "markdown",
   "id": "88cfe75c-162f-4cd5-a3ac-d189a7ef119f",
   "metadata": {},
   "source": [
    "### Hot Fixes"
   ]
  },
  {
   "cell_type": "code",
   "execution_count": null,
   "id": "d3708e47-8287-4006-a70c-015bde67047f",
   "metadata": {},
   "outputs": [],
   "source": [
    "# 1. Update eval.py: test --> validate: metadata/src/eval.py\n",
    "\n",
    "# 2. Commend defaults in experiment config: /metadata/configs/experiment/vpc/EXP.yaml\n",
    "\n",
    "# 3. [for eval dev] Cohort Embeddings: train_data is None in metadata/src/datamodules/vpc_datamodule.py\n",
    "# if stage == 'fit' or stage is None: --> if True:\n",
    "\n",
    "# 4. [OPTIONAL - for eval] update: metadata/src/modules/multimodal_vpc.py\n",
    "# override/write embedding type + set cohort_path = None\n",
    "\n",
    "\n",
    "#=============\n",
    "# clusters exps\n",
    "overrides_data = overrides_data.replace(\"trainer.num_sanity_val_steps=0\",\"\")\n",
    "overrides_data = overrides_data.replace(\"name=...\", \"\")\n",
    "overrides_data = overrides_data.replace(\"experiment=...\", \"\")\n",
    "overrides_data = overrides_data.replace(\"paths.data_dir=...\", \"\")\n",
    "overrides_data = overrides_data.replace(\"datamodule.loaders.valid.batch_size=...\", \"\")\n",
    "overrides_data = overrides_data.replace(\"paths.log_dir=...\", f'paths.log_dir={path_to_exp}')\n",
    "overrides_data = overrides_data.replace(\"ckpt_path=.../checkpoints/last.ckpt\", \"\")\n",
    "overrides_data"
   ]
  },
  {
   "cell_type": "code",
   "execution_count": null,
   "id": "e6102eac",
   "metadata": {},
   "outputs": [],
   "source": [
    "env_file_path = f\"{paths_to_metadata}/.env\"\n",
    "\n",
    "if not os.path.exists(env_file_path):\n",
    "    with open(env_file_path, 'w') as env_file:\n",
    "        env_file.write(f\"PROJECT_ROOT={paths_to_metadata}/voxattack\\n\")\n",
    "        # Add other environment variables as needed"
   ]
  },
  {
   "cell_type": "code",
   "execution_count": null,
   "id": "d0bf6016",
   "metadata": {},
   "outputs": [],
   "source": [
    "!python $rel_path_eval +experiment=$experiment $overrides_data ckpt_path=$ckpt_path paths.data_dir=$PATH_TO_HOME/data \\\n",
    "module.scores_norm.embeds_metric_params.cohort_per_model=40000 module.scores_norm.scores_norm_params.topk=1000 module.scores_norm.scores_norm_params.min_cohort_size=10"
   ]
  },
  {
   "cell_type": "code",
   "execution_count": null,
   "id": "e9ba821a-eba4-47f0-be9d-3c55125876f6",
   "metadata": {},
   "outputs": [],
   "source": []
  }
 ],
 "metadata": {
  "kernelspec": {
   "display_name": "Python 3 (ipykernel)",
   "language": "python",
   "name": "python3"
  },
  "language_info": {
   "codemirror_mode": {
    "name": "ipython",
    "version": 3
   },
   "file_extension": ".py",
   "mimetype": "text/x-python",
   "name": "python",
   "nbconvert_exporter": "python",
   "pygments_lexer": "ipython3",
   "version": "3.11.11"
  }
 },
 "nbformat": 4,
 "nbformat_minor": 5
}
